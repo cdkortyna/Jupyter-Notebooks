{
 "cells": [
  {
   "cell_type": "code",
   "execution_count": 1,
   "metadata": {},
   "outputs": [],
   "source": [
    "from random import choice"
   ]
  },
  {
   "cell_type": "code",
   "execution_count": 20,
   "metadata": {},
   "outputs": [
    {
     "name": "stdout",
     "output_type": "stream",
     "text": [
      "{'Brighid': 'Mom', 'Dad': 'Claire', 'Claire': 'Cullen', 'Mom': 'Dad', 'Fiona': 'Brighid', 'Cullen': 'Fiona'}\n"
     ]
    }
   ],
   "source": [
    "givers = ['Dad', 'Mom', 'Cullen', 'Claire', 'Brighid', 'Fiona']\n",
    "recipients = ['Dad', 'Mom', 'Cullen', 'Claire', 'Brighid', 'Fiona']\n",
    "\n",
    "book_flood = {}\n",
    "\n",
    "# If the last giver and last recipient are the same person, the while loop will loop forever\n",
    "while givers:\n",
    "    giver = choice(givers)\n",
    "    recipient = choice(recipients)\n",
    "    if giver != recipient:\n",
    "        book_flood[giver] = recipient\n",
    "        givers.remove(giver)\n",
    "        recipients.remove(recipient)\n",
    "\n",
    "print(book_flood)"
   ]
  },
  {
   "cell_type": "code",
   "execution_count": 2,
   "metadata": {},
   "outputs": [
    {
     "name": "stdout",
     "output_type": "stream",
     "text": [
      "{'Fiona': 'Cullen', 'Mom': 'Claire', 'Dad': 'Mom', 'Cullen': 'Brighid', 'Brighid': 'Fiona', 'Claire': 'Dad'}\n"
     ]
    }
   ],
   "source": [
    "givers = ['Dad', 'Mom', 'Cullen', 'Claire', 'Brighid', 'Fiona']\n",
    "recipients = ['Dad', 'Mom', 'Cullen', 'Claire', 'Brighid', 'Fiona']\n",
    "\n",
    "book_flood = {}\n",
    "\n",
    "# If the last giver and last recipient are the same person, the while loop will loop forever\n",
    "while givers:\n",
    "    giver = choice(givers)\n",
    "    recipient = choice(recipients)\n",
    "    if giver == recipient:\n",
    "        continue\n",
    "    elif giver == 'Fiona' and recipient == 'Mom':\n",
    "        continue\n",
    "    elif giver == 'Claire' and recipient == 'Brighid':\n",
    "        continue\n",
    "    elif giver == 'Brighid' and recipient == 'Claire':\n",
    "        continue\n",
    "    elif giver == 'Mom' and recipient == 'Fiona':\n",
    "        continue\n",
    "    elif giver == 'Cullen' and recipient == 'Dad':\n",
    "        continue\n",
    "    elif giver == 'Dad' and recipient == 'Cullen':\n",
    "        continue\n",
    "    else:\n",
    "        book_flood[giver] = recipient\n",
    "        givers.remove(giver)\n",
    "        recipients.remove(recipient)\n",
    "\n",
    "print(book_flood)"
   ]
  },
  {
   "cell_type": "code",
   "execution_count": null,
   "metadata": {},
   "outputs": [],
   "source": []
  }
 ],
 "metadata": {
  "kernelspec": {
   "display_name": "Python 3",
   "language": "python",
   "name": "python3"
  },
  "language_info": {
   "codemirror_mode": {
    "name": "ipython",
    "version": 3
   },
   "file_extension": ".py",
   "mimetype": "text/x-python",
   "name": "python",
   "nbconvert_exporter": "python",
   "pygments_lexer": "ipython3",
   "version": "3.6.12"
  }
 },
 "nbformat": 4,
 "nbformat_minor": 4
}
